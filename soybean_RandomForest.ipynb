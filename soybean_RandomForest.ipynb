{
  "cells": [
    {
      "cell_type": "markdown",
      "metadata": {
        "id": "view-in-github",
        "colab_type": "text"
      },
      "source": [
        "<a href=\"https://colab.research.google.com/github/Massato01/Predicting-Soy-Deseases-Diagnosis/blob/main/soybean_RandomForest.ipynb\" target=\"_parent\"><img src=\"https://colab.research.google.com/assets/colab-badge.svg\" alt=\"Open In Colab\"/></a>"
      ]
    },
    {
      "cell_type": "markdown",
      "metadata": {
        "id": "43_7y_QXRilB"
      },
      "source": [
        "# ***Predicting Soy Desease Diagnosis with RANDOM FOREST***"
      ]
    },
    {
      "cell_type": "code",
      "execution_count": null,
      "metadata": {
        "id": "lZu9je6aRilD"
      },
      "outputs": [],
      "source": [
        "import pandas                as pd\n",
        "from sklearn.ensemble        import RandomForestClassifier\n",
        "from sklearn.preprocessing   import LabelEncoder, OneHotEncoder\n",
        "from sklearn.model_selection import train_test_split\n",
        "from sklearn.metrics         import confusion_matrix, accuracy_score"
      ]
    },
    {
      "cell_type": "code",
      "execution_count": null,
      "metadata": {
        "id": "aBciKxdhRilD",
        "outputId": "34497685-6e22-47fd-e385-4f9afa8577e9"
      },
      "outputs": [
        {
          "data": {
            "text/plain": [
              "(683, 36)"
            ]
          },
          "execution_count": 3,
          "metadata": {},
          "output_type": "execute_result"
        }
      ],
      "source": [
        "dataset = pd.read_csv('C:\\\\Users\\\\massa\\\\OneDrive\\\\Documents_Note\\\\For_Coding\\\\Material\\\\Data Science\\\\FormaçãoCD1\\\\Python - Data Science\\\\Data_Science_Python\\\\34.Prática em Python\\\\dados\\\\soybean.csv')\n",
        "\n",
        "dataset.shape"
      ]
    },
    {
      "cell_type": "code",
      "execution_count": null,
      "metadata": {
        "id": "q14Rf9RZRilE",
        "outputId": "ea35a0ff-71f5-4495-a563-9e728aa4e1f3"
      },
      "outputs": [
        {
          "data": {
            "text/html": [
              "<div>\n",
              "<style scoped>\n",
              "    .dataframe tbody tr th:only-of-type {\n",
              "        vertical-align: middle;\n",
              "    }\n",
              "\n",
              "    .dataframe tbody tr th {\n",
              "        vertical-align: top;\n",
              "    }\n",
              "\n",
              "    .dataframe thead th {\n",
              "        text-align: right;\n",
              "    }\n",
              "</style>\n",
              "<table border=\"1\" class=\"dataframe\">\n",
              "  <thead>\n",
              "    <tr style=\"text-align: right;\">\n",
              "      <th></th>\n",
              "      <th>date</th>\n",
              "      <th>plant-stand</th>\n",
              "      <th>precip</th>\n",
              "      <th>temp</th>\n",
              "      <th>hail</th>\n",
              "      <th>crop-hist</th>\n",
              "      <th>area-damaged</th>\n",
              "      <th>severity</th>\n",
              "      <th>seed-tmt</th>\n",
              "      <th>germination</th>\n",
              "      <th>...</th>\n",
              "      <th>sclerotia</th>\n",
              "      <th>fruit-pods</th>\n",
              "      <th>fruit-spots</th>\n",
              "      <th>seed</th>\n",
              "      <th>mold-growth</th>\n",
              "      <th>seed-discolor</th>\n",
              "      <th>seed-size</th>\n",
              "      <th>shriveling</th>\n",
              "      <th>roots</th>\n",
              "      <th>class</th>\n",
              "    </tr>\n",
              "  </thead>\n",
              "  <tbody>\n",
              "    <tr>\n",
              "      <th>0</th>\n",
              "      <td>october</td>\n",
              "      <td>normal</td>\n",
              "      <td>gt-norm</td>\n",
              "      <td>norm</td>\n",
              "      <td>yes</td>\n",
              "      <td>same-lst-yr</td>\n",
              "      <td>low-areas</td>\n",
              "      <td>pot-severe</td>\n",
              "      <td>none</td>\n",
              "      <td>90-100</td>\n",
              "      <td>...</td>\n",
              "      <td>absent</td>\n",
              "      <td>norm</td>\n",
              "      <td>dna</td>\n",
              "      <td>norm</td>\n",
              "      <td>absent</td>\n",
              "      <td>absent</td>\n",
              "      <td>norm</td>\n",
              "      <td>absent</td>\n",
              "      <td>norm</td>\n",
              "      <td>diaporthe-stem-canker</td>\n",
              "    </tr>\n",
              "    <tr>\n",
              "      <th>1</th>\n",
              "      <td>august</td>\n",
              "      <td>normal</td>\n",
              "      <td>gt-norm</td>\n",
              "      <td>norm</td>\n",
              "      <td>yes</td>\n",
              "      <td>same-lst-two-yrs</td>\n",
              "      <td>scattered</td>\n",
              "      <td>severe</td>\n",
              "      <td>fungicide</td>\n",
              "      <td>80-89</td>\n",
              "      <td>...</td>\n",
              "      <td>absent</td>\n",
              "      <td>norm</td>\n",
              "      <td>dna</td>\n",
              "      <td>norm</td>\n",
              "      <td>absent</td>\n",
              "      <td>absent</td>\n",
              "      <td>norm</td>\n",
              "      <td>absent</td>\n",
              "      <td>norm</td>\n",
              "      <td>diaporthe-stem-canker</td>\n",
              "    </tr>\n",
              "    <tr>\n",
              "      <th>2</th>\n",
              "      <td>july</td>\n",
              "      <td>normal</td>\n",
              "      <td>gt-norm</td>\n",
              "      <td>norm</td>\n",
              "      <td>yes</td>\n",
              "      <td>same-lst-yr</td>\n",
              "      <td>scattered</td>\n",
              "      <td>severe</td>\n",
              "      <td>fungicide</td>\n",
              "      <td>lt-80</td>\n",
              "      <td>...</td>\n",
              "      <td>absent</td>\n",
              "      <td>norm</td>\n",
              "      <td>dna</td>\n",
              "      <td>norm</td>\n",
              "      <td>absent</td>\n",
              "      <td>absent</td>\n",
              "      <td>norm</td>\n",
              "      <td>absent</td>\n",
              "      <td>norm</td>\n",
              "      <td>diaporthe-stem-canker</td>\n",
              "    </tr>\n",
              "    <tr>\n",
              "      <th>3</th>\n",
              "      <td>july</td>\n",
              "      <td>normal</td>\n",
              "      <td>gt-norm</td>\n",
              "      <td>norm</td>\n",
              "      <td>yes</td>\n",
              "      <td>same-lst-yr</td>\n",
              "      <td>scattered</td>\n",
              "      <td>severe</td>\n",
              "      <td>none</td>\n",
              "      <td>80-89</td>\n",
              "      <td>...</td>\n",
              "      <td>absent</td>\n",
              "      <td>norm</td>\n",
              "      <td>dna</td>\n",
              "      <td>norm</td>\n",
              "      <td>absent</td>\n",
              "      <td>absent</td>\n",
              "      <td>norm</td>\n",
              "      <td>absent</td>\n",
              "      <td>norm</td>\n",
              "      <td>diaporthe-stem-canker</td>\n",
              "    </tr>\n",
              "    <tr>\n",
              "      <th>4</th>\n",
              "      <td>october</td>\n",
              "      <td>normal</td>\n",
              "      <td>gt-norm</td>\n",
              "      <td>norm</td>\n",
              "      <td>yes</td>\n",
              "      <td>same-lst-two-yrs</td>\n",
              "      <td>scattered</td>\n",
              "      <td>pot-severe</td>\n",
              "      <td>none</td>\n",
              "      <td>lt-80</td>\n",
              "      <td>...</td>\n",
              "      <td>absent</td>\n",
              "      <td>norm</td>\n",
              "      <td>dna</td>\n",
              "      <td>norm</td>\n",
              "      <td>absent</td>\n",
              "      <td>absent</td>\n",
              "      <td>norm</td>\n",
              "      <td>absent</td>\n",
              "      <td>norm</td>\n",
              "      <td>diaporthe-stem-canker</td>\n",
              "    </tr>\n",
              "  </tbody>\n",
              "</table>\n",
              "<p>5 rows × 36 columns</p>\n",
              "</div>"
            ],
            "text/plain": [
              "      date plant-stand   precip  temp hail         crop-hist area-damaged  \\\n",
              "0  october      normal  gt-norm  norm  yes       same-lst-yr    low-areas   \n",
              "1   august      normal  gt-norm  norm  yes  same-lst-two-yrs    scattered   \n",
              "2     july      normal  gt-norm  norm  yes       same-lst-yr    scattered   \n",
              "3     july      normal  gt-norm  norm  yes       same-lst-yr    scattered   \n",
              "4  october      normal  gt-norm  norm  yes  same-lst-two-yrs    scattered   \n",
              "\n",
              "     severity   seed-tmt germination  ... sclerotia fruit-pods fruit-spots  \\\n",
              "0  pot-severe       none      90-100  ...    absent       norm         dna   \n",
              "1      severe  fungicide       80-89  ...    absent       norm         dna   \n",
              "2      severe  fungicide       lt-80  ...    absent       norm         dna   \n",
              "3      severe       none       80-89  ...    absent       norm         dna   \n",
              "4  pot-severe       none       lt-80  ...    absent       norm         dna   \n",
              "\n",
              "   seed mold-growth seed-discolor seed-size shriveling roots  \\\n",
              "0  norm      absent        absent      norm     absent  norm   \n",
              "1  norm      absent        absent      norm     absent  norm   \n",
              "2  norm      absent        absent      norm     absent  norm   \n",
              "3  norm      absent        absent      norm     absent  norm   \n",
              "4  norm      absent        absent      norm     absent  norm   \n",
              "\n",
              "                   class  \n",
              "0  diaporthe-stem-canker  \n",
              "1  diaporthe-stem-canker  \n",
              "2  diaporthe-stem-canker  \n",
              "3  diaporthe-stem-canker  \n",
              "4  diaporthe-stem-canker  \n",
              "\n",
              "[5 rows x 36 columns]"
            ]
          },
          "execution_count": 50,
          "metadata": {},
          "output_type": "execute_result"
        }
      ],
      "source": [
        "dataset.head()"
      ]
    },
    {
      "cell_type": "code",
      "execution_count": null,
      "metadata": {
        "id": "2RLIuC_qRilF"
      },
      "outputs": [],
      "source": [
        "data = dataset.iloc[:, :35].values\n",
        "target = dataset.iloc[:, 35].values"
      ]
    },
    {
      "cell_type": "code",
      "execution_count": null,
      "metadata": {
        "id": "tyisq6-ARilF",
        "outputId": "6b9d2aa9-fa10-4657-d959-b1a6b93271f2"
      },
      "outputs": [
        {
          "data": {
            "text/plain": [
              "array([['october', 'normal', 'gt-norm', ..., 'norm', 'absent', 'norm'],\n",
              "       ['august', 'normal', 'gt-norm', ..., 'norm', 'absent', 'norm'],\n",
              "       ['july', 'normal', 'gt-norm', ..., 'norm', 'absent', 'norm'],\n",
              "       ...,\n",
              "       ['june', 'lt-normal', '?', ..., '?', '?', 'rotted'],\n",
              "       ['april', 'lt-normal', '?', ..., '?', '?', 'rotted'],\n",
              "       ['june', 'lt-normal', '?', ..., '?', '?', 'rotted']], dtype=object)"
            ]
          },
          "execution_count": 52,
          "metadata": {},
          "output_type": "execute_result"
        }
      ],
      "source": [
        "data"
      ]
    },
    {
      "cell_type": "markdown",
      "source": [
        "## ***Transforming the data into `Numeric` values***"
      ],
      "metadata": {
        "id": "MqdwRHgeTUIn"
      }
    },
    {
      "cell_type": "code",
      "execution_count": null,
      "metadata": {
        "id": "qj1g5Y3qRilF"
      },
      "outputs": [],
      "source": [
        "labelencoder = LabelEncoder()\n",
        "\n",
        "for x in range(35):\n",
        "    data[ :, x] = labelencoder.fit_transform(data[ :, x])"
      ]
    },
    {
      "cell_type": "code",
      "execution_count": null,
      "metadata": {
        "id": "LC1HFZ68RilF",
        "outputId": "95e9ae69-b394-43be-87d1-77637052c3ee"
      },
      "outputs": [
        {
          "data": {
            "text/plain": [
              "array([[6, 2, 1, ..., 2, 1, 2],\n",
              "       [2, 2, 1, ..., 2, 1, 2],\n",
              "       [3, 2, 1, ..., 2, 1, 2],\n",
              "       ...,\n",
              "       [4, 1, 0, ..., 0, 0, 3],\n",
              "       [1, 1, 0, ..., 0, 0, 3],\n",
              "       [4, 1, 0, ..., 0, 0, 3]], dtype=object)"
            ]
          },
          "execution_count": 54,
          "metadata": {},
          "output_type": "execute_result"
        }
      ],
      "source": [
        "data"
      ]
    },
    {
      "cell_type": "markdown",
      "source": [
        "## ***Separating train and test data***"
      ],
      "metadata": {
        "id": "8RJH7qJJTY1b"
      }
    },
    {
      "cell_type": "code",
      "execution_count": null,
      "metadata": {
        "id": "Xp2tRH3sRilG",
        "outputId": "86912d0c-853b-403c-83d5-b13768648a45"
      },
      "outputs": [
        {
          "name": "stdout",
          "output_type": "stream",
          "text": [
            "478 205 478 205\n"
          ]
        }
      ],
      "source": [
        "X_train, X_test, y_train, y_test = train_test_split(data,\n",
        "                                                    target,\n",
        "                                                    test_size = 0.3,\n",
        "                                                    random_state = 0)\n",
        "\n",
        "print(len(X_train), len(X_test), len(y_train), len(y_test))"
      ]
    },
    {
      "cell_type": "markdown",
      "source": [
        "## ***Creating and training the Model***"
      ],
      "metadata": {
        "id": "lpyLGUTSTdrk"
      }
    },
    {
      "cell_type": "code",
      "execution_count": null,
      "metadata": {
        "id": "bwvxryTJRilG",
        "outputId": "80819b0a-3944-4293-d088-f694208f7445"
      },
      "outputs": [
        {
          "data": {
            "text/plain": [
              "RandomForestClassifier()"
            ]
          },
          "execution_count": 56,
          "metadata": {},
          "output_type": "execute_result"
        }
      ],
      "source": [
        "random_forest = RandomForestClassifier()\n",
        "random_forest.fit(X_train, y_train)"
      ]
    },
    {
      "cell_type": "markdown",
      "source": [
        "## ***Predictions***"
      ],
      "metadata": {
        "id": "Ivs2-xCDTknL"
      }
    },
    {
      "cell_type": "code",
      "execution_count": null,
      "metadata": {
        "id": "TrqNO18VRilG",
        "outputId": "2faa0f59-cc02-49fa-e139-4715d8481050"
      },
      "outputs": [
        {
          "data": {
            "text/plain": [
              "array(['brown-spot', 'phytophthora-rot', 'herbicide-injury',\n",
              "       'purple-seed-stain', 'cyst-nematode', 'bacterial-blight',\n",
              "       'brown-stem-rot', 'bacterial-pustule', 'brown-spot',\n",
              "       'alternarialeaf-spot', 'charcoal-rot', 'bacterial-blight',\n",
              "       'anthracnose', 'anthracnose', 'alternarialeaf-spot', 'brown-spot',\n",
              "       'alternarialeaf-spot', 'alternarialeaf-spot',\n",
              "       'rhizoctonia-root-rot', 'phytophthora-rot', 'anthracnose',\n",
              "       'brown-stem-rot', 'phyllosticta-leaf-spot',\n",
              "       'phyllosticta-leaf-spot', 'diaporthe-stem-canker', 'brown-spot',\n",
              "       'anthracnose', 'diaporthe-stem-canker', 'bacterial-pustule',\n",
              "       'phytophthora-rot', 'frog-eye-leaf-spot', 'alternarialeaf-spot',\n",
              "       'phyllosticta-leaf-spot', 'frog-eye-leaf-spot',\n",
              "       'frog-eye-leaf-spot', 'bacterial-pustule', 'brown-stem-rot',\n",
              "       'charcoal-rot', 'brown-spot', 'brown-spot', 'brown-stem-rot',\n",
              "       'alternarialeaf-spot', 'phytophthora-rot', 'anthracnose',\n",
              "       'bacterial-blight', '2-4-d-injury', 'alternarialeaf-spot',\n",
              "       'brown-spot', 'phyllosticta-leaf-spot', 'alternarialeaf-spot',\n",
              "       'brown-spot', 'brown-stem-rot', 'phytophthora-rot',\n",
              "       'frog-eye-leaf-spot', 'brown-stem-rot', 'frog-eye-leaf-spot',\n",
              "       'frog-eye-leaf-spot', 'diaporthe-stem-canker', 'brown-stem-rot',\n",
              "       'downy-mildew', 'bacterial-pustule', 'downy-mildew',\n",
              "       'alternarialeaf-spot', 'alternarialeaf-spot', 'bacterial-blight',\n",
              "       'anthracnose', 'rhizoctonia-root-rot', 'brown-spot',\n",
              "       'phytophthora-rot', 'phytophthora-rot', 'cyst-nematode',\n",
              "       'alternarialeaf-spot', 'alternarialeaf-spot', 'brown-spot',\n",
              "       'rhizoctonia-root-rot', 'phytophthora-rot', 'phytophthora-rot',\n",
              "       'frog-eye-leaf-spot', 'frog-eye-leaf-spot',\n",
              "       'diaporthe-stem-canker', 'brown-spot', 'frog-eye-leaf-spot',\n",
              "       'alternarialeaf-spot', 'diaporthe-stem-canker',\n",
              "       'purple-seed-stain', 'phytophthora-rot', 'anthracnose',\n",
              "       'alternarialeaf-spot', 'frog-eye-leaf-spot', 'phytophthora-rot',\n",
              "       'charcoal-rot', 'brown-spot', 'diaporthe-stem-canker',\n",
              "       'phytophthora-rot', 'phytophthora-rot', 'phytophthora-rot',\n",
              "       'brown-spot', 'phytophthora-rot', 'downy-mildew',\n",
              "       'alternarialeaf-spot', 'anthracnose', 'alternarialeaf-spot',\n",
              "       'brown-spot', 'alternarialeaf-spot', 'charcoal-rot',\n",
              "       'downy-mildew', 'phytophthora-rot', 'brown-spot', 'brown-spot',\n",
              "       'cyst-nematode', 'anthracnose', 'brown-spot',\n",
              "       'alternarialeaf-spot', 'alternarialeaf-spot', 'charcoal-rot',\n",
              "       'phyllosticta-leaf-spot', 'frog-eye-leaf-spot',\n",
              "       'rhizoctonia-root-rot', 'brown-stem-rot', 'phytophthora-rot',\n",
              "       'phytophthora-rot', 'charcoal-rot', 'frog-eye-leaf-spot',\n",
              "       'phytophthora-rot', '2-4-d-injury', 'phytophthora-rot',\n",
              "       'brown-spot', 'alternarialeaf-spot', 'anthracnose',\n",
              "       'diaporthe-pod-&-stem-blight', 'brown-spot', 'anthracnose',\n",
              "       'rhizoctonia-root-rot', 'brown-spot', 'purple-seed-stain',\n",
              "       'bacterial-pustule', 'brown-stem-rot', 'diaporthe-stem-canker',\n",
              "       'brown-spot', 'frog-eye-leaf-spot', 'brown-stem-rot',\n",
              "       'downy-mildew', 'frog-eye-leaf-spot', 'purple-seed-stain',\n",
              "       'brown-spot', 'frog-eye-leaf-spot', 'alternarialeaf-spot',\n",
              "       'powdery-mildew', 'frog-eye-leaf-spot', 'phyllosticta-leaf-spot',\n",
              "       '2-4-d-injury', 'phytophthora-rot', 'frog-eye-leaf-spot',\n",
              "       'phytophthora-rot', 'bacterial-blight', 'bacterial-blight',\n",
              "       'brown-stem-rot', 'bacterial-blight', 'purple-seed-stain',\n",
              "       'herbicide-injury', 'diaporthe-pod-&-stem-blight',\n",
              "       'phyllosticta-leaf-spot', 'brown-spot', 'charcoal-rot',\n",
              "       'bacterial-pustule', 'cyst-nematode', 'brown-spot',\n",
              "       'bacterial-blight', 'charcoal-rot', 'brown-stem-rot',\n",
              "       'powdery-mildew', 'alternarialeaf-spot', 'phytophthora-rot',\n",
              "       'alternarialeaf-spot', 'cyst-nematode', 'phytophthora-rot',\n",
              "       'frog-eye-leaf-spot', 'alternarialeaf-spot', 'frog-eye-leaf-spot',\n",
              "       'anthracnose', 'alternarialeaf-spot', 'charcoal-rot',\n",
              "       'alternarialeaf-spot', 'alternarialeaf-spot',\n",
              "       'diaporthe-stem-canker', 'frog-eye-leaf-spot', 'brown-stem-rot',\n",
              "       'frog-eye-leaf-spot', 'diaporthe-pod-&-stem-blight',\n",
              "       'phytophthora-rot', 'diaporthe-pod-&-stem-blight',\n",
              "       'frog-eye-leaf-spot', 'anthracnose', 'alternarialeaf-spot',\n",
              "       'frog-eye-leaf-spot', 'phytophthora-rot', 'powdery-mildew',\n",
              "       'alternarialeaf-spot', 'herbicide-injury', 'brown-spot',\n",
              "       'anthracnose', 'diaporthe-pod-&-stem-blight', 'purple-seed-stain',\n",
              "       'bacterial-pustule', 'diaporthe-pod-&-stem-blight'], dtype=object)"
            ]
          },
          "execution_count": 57,
          "metadata": {},
          "output_type": "execute_result"
        }
      ],
      "source": [
        "prediction = random_forest.predict(X_test)\n",
        "prediction"
      ]
    },
    {
      "cell_type": "markdown",
      "source": [
        "## ***Accuracy***"
      ],
      "metadata": {
        "id": "031A--73TnW5"
      }
    },
    {
      "cell_type": "code",
      "execution_count": null,
      "metadata": {
        "id": "jBJGhxYdRilH",
        "outputId": "10b91bf9-8720-4d32-c500-cb33d517dbab"
      },
      "outputs": [
        {
          "name": "stdout",
          "output_type": "stream",
          "text": [
            "Hit Rate: 0.96\n",
            "Miss Rate: 0.04\n"
          ]
        }
      ],
      "source": [
        "hit_rate = accuracy_score(y_test, prediction)\n",
        "miss_rate = 1 - hit_rate\n",
        "\n",
        "print(f'Hit Rate: {hit_rate:.2f}\\nMiss Rate: {miss_rate:.2f}')\n",
        "\n",
        "# GOOD PERFORMANCE"
      ]
    }
  ],
  "metadata": {
    "interpreter": {
      "hash": "343f115f40a8053497179efaaabbcede37074ddc2d78a1917bbcb3055274ce2f"
    },
    "kernelspec": {
      "display_name": "Python 3.8.8 ('base')",
      "language": "python",
      "name": "python3"
    },
    "language_info": {
      "codemirror_mode": {
        "name": "ipython",
        "version": 3
      },
      "file_extension": ".py",
      "mimetype": "text/x-python",
      "name": "python",
      "nbconvert_exporter": "python",
      "pygments_lexer": "ipython3",
      "version": "3.8.8"
    },
    "orig_nbformat": 4,
    "colab": {
      "name": "soybean_RandomForest.ipynb",
      "provenance": [],
      "include_colab_link": true
    }
  },
  "nbformat": 4,
  "nbformat_minor": 0
}