{
  "cells": [
    {
      "cell_type": "markdown",
      "metadata": {
        "id": "view-in-github",
        "colab_type": "text"
      },
      "source": [
        "<a href=\"https://colab.research.google.com/github/Massato01/Predicting-Soy-Deseases-Diagnosis/blob/main/soybean_NaiveBayes.ipynb\" target=\"_parent\"><img src=\"https://colab.research.google.com/assets/colab-badge.svg\" alt=\"Open In Colab\"/></a>"
      ]
    },
    {
      "cell_type": "markdown",
      "metadata": {
        "id": "1iLhaGjLRhN_"
      },
      "source": [
        "# ***Predicting Soy Disease Diagnosis with NAIVE BAYES***"
      ]
    },
    {
      "cell_type": "code",
      "execution_count": null,
      "metadata": {
        "id": "U5o_aQqnRhOE"
      },
      "outputs": [],
      "source": [
        "import pandas                as pd\n",
        "from sklearn.preprocessing   import LabelEncoder, OneHotEncoder\n",
        "from sklearn.model_selection import train_test_split\n",
        "from sklearn.naive_bayes     import GaussianNB\n",
        "from sklearn.metrics         import confusion_matrix, accuracy_score"
      ]
    },
    {
      "cell_type": "code",
      "execution_count": null,
      "metadata": {
        "id": "IU__wzlIRhOG",
        "outputId": "ca2a64ce-597f-4fef-e036-186c7015fb77"
      },
      "outputs": [
        {
          "data": {
            "text/plain": [
              "(683, 36)"
            ]
          },
          "execution_count": 26,
          "metadata": {},
          "output_type": "execute_result"
        }
      ],
      "source": [
        "dataset = pd.read_csv('C:\\\\Users\\\\massa\\\\OneDrive\\\\Documents_Note\\\\For_Coding\\\\Material\\\\Data Science\\\\FormaçãoCD1\\\\Python - Data Science\\\\Data_Science_Python\\\\34.Prática em Python\\\\dados\\\\soybean.csv')\n",
        "\n",
        "dataset.shape"
      ]
    },
    {
      "cell_type": "code",
      "execution_count": null,
      "metadata": {
        "id": "sf7DnuMERhOH",
        "outputId": "d70ffd63-ca57-41df-9897-fd2c22464db4"
      },
      "outputs": [
        {
          "data": {
            "text/html": [
              "<div>\n",
              "<style scoped>\n",
              "    .dataframe tbody tr th:only-of-type {\n",
              "        vertical-align: middle;\n",
              "    }\n",
              "\n",
              "    .dataframe tbody tr th {\n",
              "        vertical-align: top;\n",
              "    }\n",
              "\n",
              "    .dataframe thead th {\n",
              "        text-align: right;\n",
              "    }\n",
              "</style>\n",
              "<table border=\"1\" class=\"dataframe\">\n",
              "  <thead>\n",
              "    <tr style=\"text-align: right;\">\n",
              "      <th></th>\n",
              "      <th>date</th>\n",
              "      <th>plant-stand</th>\n",
              "      <th>precip</th>\n",
              "      <th>temp</th>\n",
              "      <th>hail</th>\n",
              "      <th>crop-hist</th>\n",
              "      <th>area-damaged</th>\n",
              "      <th>severity</th>\n",
              "      <th>seed-tmt</th>\n",
              "      <th>germination</th>\n",
              "      <th>...</th>\n",
              "      <th>sclerotia</th>\n",
              "      <th>fruit-pods</th>\n",
              "      <th>fruit-spots</th>\n",
              "      <th>seed</th>\n",
              "      <th>mold-growth</th>\n",
              "      <th>seed-discolor</th>\n",
              "      <th>seed-size</th>\n",
              "      <th>shriveling</th>\n",
              "      <th>roots</th>\n",
              "      <th>class</th>\n",
              "    </tr>\n",
              "  </thead>\n",
              "  <tbody>\n",
              "    <tr>\n",
              "      <th>0</th>\n",
              "      <td>october</td>\n",
              "      <td>normal</td>\n",
              "      <td>gt-norm</td>\n",
              "      <td>norm</td>\n",
              "      <td>yes</td>\n",
              "      <td>same-lst-yr</td>\n",
              "      <td>low-areas</td>\n",
              "      <td>pot-severe</td>\n",
              "      <td>none</td>\n",
              "      <td>90-100</td>\n",
              "      <td>...</td>\n",
              "      <td>absent</td>\n",
              "      <td>norm</td>\n",
              "      <td>dna</td>\n",
              "      <td>norm</td>\n",
              "      <td>absent</td>\n",
              "      <td>absent</td>\n",
              "      <td>norm</td>\n",
              "      <td>absent</td>\n",
              "      <td>norm</td>\n",
              "      <td>diaporthe-stem-canker</td>\n",
              "    </tr>\n",
              "    <tr>\n",
              "      <th>1</th>\n",
              "      <td>august</td>\n",
              "      <td>normal</td>\n",
              "      <td>gt-norm</td>\n",
              "      <td>norm</td>\n",
              "      <td>yes</td>\n",
              "      <td>same-lst-two-yrs</td>\n",
              "      <td>scattered</td>\n",
              "      <td>severe</td>\n",
              "      <td>fungicide</td>\n",
              "      <td>80-89</td>\n",
              "      <td>...</td>\n",
              "      <td>absent</td>\n",
              "      <td>norm</td>\n",
              "      <td>dna</td>\n",
              "      <td>norm</td>\n",
              "      <td>absent</td>\n",
              "      <td>absent</td>\n",
              "      <td>norm</td>\n",
              "      <td>absent</td>\n",
              "      <td>norm</td>\n",
              "      <td>diaporthe-stem-canker</td>\n",
              "    </tr>\n",
              "    <tr>\n",
              "      <th>2</th>\n",
              "      <td>july</td>\n",
              "      <td>normal</td>\n",
              "      <td>gt-norm</td>\n",
              "      <td>norm</td>\n",
              "      <td>yes</td>\n",
              "      <td>same-lst-yr</td>\n",
              "      <td>scattered</td>\n",
              "      <td>severe</td>\n",
              "      <td>fungicide</td>\n",
              "      <td>lt-80</td>\n",
              "      <td>...</td>\n",
              "      <td>absent</td>\n",
              "      <td>norm</td>\n",
              "      <td>dna</td>\n",
              "      <td>norm</td>\n",
              "      <td>absent</td>\n",
              "      <td>absent</td>\n",
              "      <td>norm</td>\n",
              "      <td>absent</td>\n",
              "      <td>norm</td>\n",
              "      <td>diaporthe-stem-canker</td>\n",
              "    </tr>\n",
              "    <tr>\n",
              "      <th>3</th>\n",
              "      <td>july</td>\n",
              "      <td>normal</td>\n",
              "      <td>gt-norm</td>\n",
              "      <td>norm</td>\n",
              "      <td>yes</td>\n",
              "      <td>same-lst-yr</td>\n",
              "      <td>scattered</td>\n",
              "      <td>severe</td>\n",
              "      <td>none</td>\n",
              "      <td>80-89</td>\n",
              "      <td>...</td>\n",
              "      <td>absent</td>\n",
              "      <td>norm</td>\n",
              "      <td>dna</td>\n",
              "      <td>norm</td>\n",
              "      <td>absent</td>\n",
              "      <td>absent</td>\n",
              "      <td>norm</td>\n",
              "      <td>absent</td>\n",
              "      <td>norm</td>\n",
              "      <td>diaporthe-stem-canker</td>\n",
              "    </tr>\n",
              "    <tr>\n",
              "      <th>4</th>\n",
              "      <td>october</td>\n",
              "      <td>normal</td>\n",
              "      <td>gt-norm</td>\n",
              "      <td>norm</td>\n",
              "      <td>yes</td>\n",
              "      <td>same-lst-two-yrs</td>\n",
              "      <td>scattered</td>\n",
              "      <td>pot-severe</td>\n",
              "      <td>none</td>\n",
              "      <td>lt-80</td>\n",
              "      <td>...</td>\n",
              "      <td>absent</td>\n",
              "      <td>norm</td>\n",
              "      <td>dna</td>\n",
              "      <td>norm</td>\n",
              "      <td>absent</td>\n",
              "      <td>absent</td>\n",
              "      <td>norm</td>\n",
              "      <td>absent</td>\n",
              "      <td>norm</td>\n",
              "      <td>diaporthe-stem-canker</td>\n",
              "    </tr>\n",
              "  </tbody>\n",
              "</table>\n",
              "<p>5 rows × 36 columns</p>\n",
              "</div>"
            ],
            "text/plain": [
              "      date plant-stand   precip  temp hail         crop-hist area-damaged  \\\n",
              "0  october      normal  gt-norm  norm  yes       same-lst-yr    low-areas   \n",
              "1   august      normal  gt-norm  norm  yes  same-lst-two-yrs    scattered   \n",
              "2     july      normal  gt-norm  norm  yes       same-lst-yr    scattered   \n",
              "3     july      normal  gt-norm  norm  yes       same-lst-yr    scattered   \n",
              "4  october      normal  gt-norm  norm  yes  same-lst-two-yrs    scattered   \n",
              "\n",
              "     severity   seed-tmt germination  ... sclerotia fruit-pods fruit-spots  \\\n",
              "0  pot-severe       none      90-100  ...    absent       norm         dna   \n",
              "1      severe  fungicide       80-89  ...    absent       norm         dna   \n",
              "2      severe  fungicide       lt-80  ...    absent       norm         dna   \n",
              "3      severe       none       80-89  ...    absent       norm         dna   \n",
              "4  pot-severe       none       lt-80  ...    absent       norm         dna   \n",
              "\n",
              "   seed mold-growth seed-discolor seed-size shriveling roots  \\\n",
              "0  norm      absent        absent      norm     absent  norm   \n",
              "1  norm      absent        absent      norm     absent  norm   \n",
              "2  norm      absent        absent      norm     absent  norm   \n",
              "3  norm      absent        absent      norm     absent  norm   \n",
              "4  norm      absent        absent      norm     absent  norm   \n",
              "\n",
              "                   class  \n",
              "0  diaporthe-stem-canker  \n",
              "1  diaporthe-stem-canker  \n",
              "2  diaporthe-stem-canker  \n",
              "3  diaporthe-stem-canker  \n",
              "4  diaporthe-stem-canker  \n",
              "\n",
              "[5 rows x 36 columns]"
            ]
          },
          "execution_count": 27,
          "metadata": {},
          "output_type": "execute_result"
        }
      ],
      "source": [
        "dataset.head()\n",
        "\n",
        "# All the data type are OBJECT"
      ]
    },
    {
      "cell_type": "code",
      "execution_count": null,
      "metadata": {
        "id": "brUSzt1tRhOI",
        "outputId": "09e74645-f3b8-4287-f287-b7bd8f5d2c8d"
      },
      "outputs": [
        {
          "data": {
            "text/plain": [
              "date               object\n",
              "plant-stand        object\n",
              "precip             object\n",
              "temp               object\n",
              "hail               object\n",
              "crop-hist          object\n",
              "area-damaged       object\n",
              "severity           object\n",
              "seed-tmt           object\n",
              "germination        object\n",
              "plant-growth       object\n",
              "leaves             object\n",
              "leafspots-halo     object\n",
              "leafspots-marg     object\n",
              "leafspot-size      object\n",
              "leaf-shread        object\n",
              "leaf-malf          object\n",
              "leaf-mild          object\n",
              "stem               object\n",
              "lodging            object\n",
              "stem-cankers       object\n",
              "canker-lesion      object\n",
              "fruiting-bodies    object\n",
              "external-decay     object\n",
              "mycelium           object\n",
              "int-discolor       object\n",
              "sclerotia          object\n",
              "fruit-pods         object\n",
              "fruit-spots        object\n",
              "seed               object\n",
              "mold-growth        object\n",
              "seed-discolor      object\n",
              "seed-size          object\n",
              "shriveling         object\n",
              "roots              object\n",
              "class              object\n",
              "dtype: object"
            ]
          },
          "execution_count": 28,
          "metadata": {},
          "output_type": "execute_result"
        }
      ],
      "source": [
        "dataset.dtypes"
      ]
    },
    {
      "cell_type": "code",
      "execution_count": null,
      "metadata": {
        "id": "LM_F2vMpRhOJ",
        "outputId": "aed90128-1a08-473d-9c91-90f33ad0ad78"
      },
      "outputs": [
        {
          "data": {
            "text/plain": [
              "array(['diaporthe-stem-canker', 'diaporthe-stem-canker',\n",
              "       'diaporthe-stem-canker', 'diaporthe-stem-canker',\n",
              "       'diaporthe-stem-canker', 'diaporthe-stem-canker',\n",
              "       'diaporthe-stem-canker', 'diaporthe-stem-canker',\n",
              "       'diaporthe-stem-canker', 'diaporthe-stem-canker', 'charcoal-rot',\n",
              "       'charcoal-rot', 'charcoal-rot', 'charcoal-rot', 'charcoal-rot',\n",
              "       'charcoal-rot', 'charcoal-rot', 'charcoal-rot', 'charcoal-rot',\n",
              "       'charcoal-rot', 'rhizoctonia-root-rot', 'rhizoctonia-root-rot',\n",
              "       'rhizoctonia-root-rot', 'rhizoctonia-root-rot',\n",
              "       'rhizoctonia-root-rot', 'rhizoctonia-root-rot',\n",
              "       'rhizoctonia-root-rot', 'rhizoctonia-root-rot',\n",
              "       'rhizoctonia-root-rot', 'rhizoctonia-root-rot', 'phytophthora-rot',\n",
              "       'phytophthora-rot', 'phytophthora-rot', 'phytophthora-rot',\n",
              "       'phytophthora-rot', 'phytophthora-rot', 'phytophthora-rot',\n",
              "       'phytophthora-rot', 'phytophthora-rot', 'phytophthora-rot',\n",
              "       'phytophthora-rot', 'phytophthora-rot', 'phytophthora-rot',\n",
              "       'phytophthora-rot', 'phytophthora-rot', 'phytophthora-rot',\n",
              "       'phytophthora-rot', 'phytophthora-rot', 'phytophthora-rot',\n",
              "       'phytophthora-rot', 'phytophthora-rot', 'phytophthora-rot',\n",
              "       'phytophthora-rot', 'phytophthora-rot', 'phytophthora-rot',\n",
              "       'phytophthora-rot', 'phytophthora-rot', 'phytophthora-rot',\n",
              "       'phytophthora-rot', 'phytophthora-rot', 'phytophthora-rot',\n",
              "       'phytophthora-rot', 'phytophthora-rot', 'phytophthora-rot',\n",
              "       'phytophthora-rot', 'phytophthora-rot', 'phytophthora-rot',\n",
              "       'phytophthora-rot', 'phytophthora-rot', 'phytophthora-rot',\n",
              "       'brown-stem-rot', 'brown-stem-rot', 'brown-stem-rot',\n",
              "       'brown-stem-rot', 'brown-stem-rot', 'brown-stem-rot',\n",
              "       'brown-stem-rot', 'brown-stem-rot', 'brown-stem-rot',\n",
              "       'brown-stem-rot', 'brown-stem-rot', 'brown-stem-rot',\n",
              "       'brown-stem-rot', 'brown-stem-rot', 'brown-stem-rot',\n",
              "       'brown-stem-rot', 'brown-stem-rot', 'brown-stem-rot',\n",
              "       'brown-stem-rot', 'brown-stem-rot', 'powdery-mildew',\n",
              "       'powdery-mildew', 'powdery-mildew', 'powdery-mildew',\n",
              "       'powdery-mildew', 'powdery-mildew', 'powdery-mildew',\n",
              "       'powdery-mildew', 'powdery-mildew', 'powdery-mildew',\n",
              "       'downy-mildew', 'downy-mildew', 'downy-mildew', 'downy-mildew',\n",
              "       'downy-mildew', 'downy-mildew', 'downy-mildew', 'downy-mildew',\n",
              "       'downy-mildew', 'downy-mildew', 'brown-spot', 'brown-spot',\n",
              "       'brown-spot', 'brown-spot', 'brown-spot', 'brown-spot',\n",
              "       'brown-spot', 'brown-spot', 'brown-spot', 'brown-spot',\n",
              "       'brown-spot', 'brown-spot', 'brown-spot', 'brown-spot',\n",
              "       'brown-spot', 'brown-spot', 'brown-spot', 'brown-spot',\n",
              "       'brown-spot', 'brown-spot', 'brown-spot', 'brown-spot',\n",
              "       'brown-spot', 'brown-spot', 'brown-spot', 'brown-spot',\n",
              "       'brown-spot', 'brown-spot', 'brown-spot', 'brown-spot',\n",
              "       'brown-spot', 'brown-spot', 'brown-spot', 'brown-spot',\n",
              "       'brown-spot', 'brown-spot', 'brown-spot', 'brown-spot',\n",
              "       'brown-spot', 'brown-spot', 'bacterial-blight', 'bacterial-blight',\n",
              "       'bacterial-blight', 'bacterial-blight', 'bacterial-blight',\n",
              "       'bacterial-blight', 'bacterial-blight', 'bacterial-blight',\n",
              "       'bacterial-blight', 'bacterial-blight', 'bacterial-pustule',\n",
              "       'bacterial-pustule', 'bacterial-pustule', 'bacterial-pustule',\n",
              "       'bacterial-pustule', 'bacterial-pustule', 'bacterial-pustule',\n",
              "       'bacterial-pustule', 'bacterial-pustule', 'bacterial-pustule',\n",
              "       'purple-seed-stain', 'purple-seed-stain', 'purple-seed-stain',\n",
              "       'purple-seed-stain', 'purple-seed-stain', 'purple-seed-stain',\n",
              "       'purple-seed-stain', 'purple-seed-stain', 'purple-seed-stain',\n",
              "       'purple-seed-stain', 'anthracnose', 'anthracnose', 'anthracnose',\n",
              "       'anthracnose', 'anthracnose', 'anthracnose', 'anthracnose',\n",
              "       'anthracnose', 'anthracnose', 'anthracnose', 'anthracnose',\n",
              "       'anthracnose', 'anthracnose', 'anthracnose', 'anthracnose',\n",
              "       'anthracnose', 'anthracnose', 'anthracnose', 'anthracnose',\n",
              "       'anthracnose', 'phyllosticta-leaf-spot', 'phyllosticta-leaf-spot',\n",
              "       'phyllosticta-leaf-spot', 'phyllosticta-leaf-spot',\n",
              "       'phyllosticta-leaf-spot', 'phyllosticta-leaf-spot',\n",
              "       'phyllosticta-leaf-spot', 'phyllosticta-leaf-spot',\n",
              "       'phyllosticta-leaf-spot', 'phyllosticta-leaf-spot',\n",
              "       'alternarialeaf-spot', 'alternarialeaf-spot',\n",
              "       'alternarialeaf-spot', 'alternarialeaf-spot',\n",
              "       'alternarialeaf-spot', 'alternarialeaf-spot',\n",
              "       'alternarialeaf-spot', 'alternarialeaf-spot',\n",
              "       'alternarialeaf-spot', 'alternarialeaf-spot',\n",
              "       'alternarialeaf-spot', 'alternarialeaf-spot',\n",
              "       'alternarialeaf-spot', 'alternarialeaf-spot',\n",
              "       'alternarialeaf-spot', 'alternarialeaf-spot',\n",
              "       'alternarialeaf-spot', 'alternarialeaf-spot',\n",
              "       'alternarialeaf-spot', 'alternarialeaf-spot',\n",
              "       'alternarialeaf-spot', 'alternarialeaf-spot',\n",
              "       'alternarialeaf-spot', 'alternarialeaf-spot',\n",
              "       'alternarialeaf-spot', 'alternarialeaf-spot',\n",
              "       'alternarialeaf-spot', 'alternarialeaf-spot',\n",
              "       'alternarialeaf-spot', 'alternarialeaf-spot',\n",
              "       'alternarialeaf-spot', 'alternarialeaf-spot',\n",
              "       'alternarialeaf-spot', 'alternarialeaf-spot',\n",
              "       'alternarialeaf-spot', 'alternarialeaf-spot',\n",
              "       'alternarialeaf-spot', 'alternarialeaf-spot',\n",
              "       'alternarialeaf-spot', 'alternarialeaf-spot', 'frog-eye-leaf-spot',\n",
              "       'frog-eye-leaf-spot', 'frog-eye-leaf-spot', 'frog-eye-leaf-spot',\n",
              "       'frog-eye-leaf-spot', 'frog-eye-leaf-spot', 'frog-eye-leaf-spot',\n",
              "       'frog-eye-leaf-spot', 'frog-eye-leaf-spot', 'frog-eye-leaf-spot',\n",
              "       'frog-eye-leaf-spot', 'frog-eye-leaf-spot', 'frog-eye-leaf-spot',\n",
              "       'frog-eye-leaf-spot', 'frog-eye-leaf-spot', 'frog-eye-leaf-spot',\n",
              "       'frog-eye-leaf-spot', 'frog-eye-leaf-spot', 'frog-eye-leaf-spot',\n",
              "       'frog-eye-leaf-spot', 'frog-eye-leaf-spot', 'frog-eye-leaf-spot',\n",
              "       'frog-eye-leaf-spot', 'frog-eye-leaf-spot', 'frog-eye-leaf-spot',\n",
              "       'frog-eye-leaf-spot', 'frog-eye-leaf-spot', 'frog-eye-leaf-spot',\n",
              "       'frog-eye-leaf-spot', 'frog-eye-leaf-spot', 'frog-eye-leaf-spot',\n",
              "       'frog-eye-leaf-spot', 'frog-eye-leaf-spot', 'frog-eye-leaf-spot',\n",
              "       'frog-eye-leaf-spot', 'frog-eye-leaf-spot', 'frog-eye-leaf-spot',\n",
              "       'frog-eye-leaf-spot', 'frog-eye-leaf-spot', 'frog-eye-leaf-spot',\n",
              "       'diaporthe-pod-&-stem-blight', 'diaporthe-pod-&-stem-blight',\n",
              "       'diaporthe-pod-&-stem-blight', 'diaporthe-pod-&-stem-blight',\n",
              "       'diaporthe-pod-&-stem-blight', 'diaporthe-pod-&-stem-blight',\n",
              "       'cyst-nematode', 'cyst-nematode', 'cyst-nematode', 'cyst-nematode',\n",
              "       'cyst-nematode', 'cyst-nematode', '2-4-d-injury',\n",
              "       'herbicide-injury', 'herbicide-injury', 'herbicide-injury',\n",
              "       'herbicide-injury', 'diaporthe-stem-canker',\n",
              "       'diaporthe-stem-canker', 'diaporthe-stem-canker',\n",
              "       'diaporthe-stem-canker', 'diaporthe-stem-canker',\n",
              "       'diaporthe-stem-canker', 'diaporthe-stem-canker',\n",
              "       'diaporthe-stem-canker', 'diaporthe-stem-canker',\n",
              "       'diaporthe-stem-canker', 'charcoal-rot', 'charcoal-rot',\n",
              "       'charcoal-rot', 'charcoal-rot', 'charcoal-rot', 'charcoal-rot',\n",
              "       'charcoal-rot', 'charcoal-rot', 'charcoal-rot', 'charcoal-rot',\n",
              "       'rhizoctonia-root-rot', 'rhizoctonia-root-rot',\n",
              "       'rhizoctonia-root-rot', 'rhizoctonia-root-rot',\n",
              "       'rhizoctonia-root-rot', 'rhizoctonia-root-rot',\n",
              "       'rhizoctonia-root-rot', 'rhizoctonia-root-rot',\n",
              "       'rhizoctonia-root-rot', 'rhizoctonia-root-rot', 'phytophthora-rot',\n",
              "       'phytophthora-rot', 'phytophthora-rot', 'phytophthora-rot',\n",
              "       'phytophthora-rot', 'phytophthora-rot', 'phytophthora-rot',\n",
              "       'phytophthora-rot', 'phytophthora-rot', 'phytophthora-rot',\n",
              "       'phytophthora-rot', 'phytophthora-rot', 'phytophthora-rot',\n",
              "       'phytophthora-rot', 'phytophthora-rot', 'phytophthora-rot',\n",
              "       'phytophthora-rot', 'phytophthora-rot', 'phytophthora-rot',\n",
              "       'phytophthora-rot', 'phytophthora-rot', 'phytophthora-rot',\n",
              "       'phytophthora-rot', 'phytophthora-rot', 'phytophthora-rot',\n",
              "       'phytophthora-rot', 'phytophthora-rot', 'phytophthora-rot',\n",
              "       'phytophthora-rot', 'phytophthora-rot', 'phytophthora-rot',\n",
              "       'phytophthora-rot', 'phytophthora-rot', 'phytophthora-rot',\n",
              "       'phytophthora-rot', 'phytophthora-rot', 'phytophthora-rot',\n",
              "       'phytophthora-rot', 'phytophthora-rot', 'phytophthora-rot',\n",
              "       'phytophthora-rot', 'phytophthora-rot', 'phytophthora-rot',\n",
              "       'phytophthora-rot', 'phytophthora-rot', 'phytophthora-rot',\n",
              "       'phytophthora-rot', 'phytophthora-rot', 'brown-stem-rot',\n",
              "       'brown-stem-rot', 'brown-stem-rot', 'brown-stem-rot',\n",
              "       'brown-stem-rot', 'brown-stem-rot', 'brown-stem-rot',\n",
              "       'brown-stem-rot', 'brown-stem-rot', 'brown-stem-rot',\n",
              "       'brown-stem-rot', 'brown-stem-rot', 'brown-stem-rot',\n",
              "       'brown-stem-rot', 'brown-stem-rot', 'brown-stem-rot',\n",
              "       'brown-stem-rot', 'brown-stem-rot', 'brown-stem-rot',\n",
              "       'brown-stem-rot', 'brown-stem-rot', 'brown-stem-rot',\n",
              "       'brown-stem-rot', 'brown-stem-rot', 'powdery-mildew',\n",
              "       'powdery-mildew', 'powdery-mildew', 'powdery-mildew',\n",
              "       'powdery-mildew', 'powdery-mildew', 'powdery-mildew',\n",
              "       'powdery-mildew', 'powdery-mildew', 'powdery-mildew',\n",
              "       'downy-mildew', 'downy-mildew', 'downy-mildew', 'downy-mildew',\n",
              "       'downy-mildew', 'downy-mildew', 'downy-mildew', 'downy-mildew',\n",
              "       'downy-mildew', 'downy-mildew', 'brown-spot', 'brown-spot',\n",
              "       'brown-spot', 'brown-spot', 'brown-spot', 'brown-spot',\n",
              "       'brown-spot', 'brown-spot', 'brown-spot', 'brown-spot',\n",
              "       'brown-spot', 'brown-spot', 'brown-spot', 'brown-spot',\n",
              "       'brown-spot', 'brown-spot', 'brown-spot', 'brown-spot',\n",
              "       'brown-spot', 'brown-spot', 'brown-spot', 'brown-spot',\n",
              "       'brown-spot', 'brown-spot', 'brown-spot', 'brown-spot',\n",
              "       'brown-spot', 'brown-spot', 'brown-spot', 'brown-spot',\n",
              "       'brown-spot', 'brown-spot', 'brown-spot', 'brown-spot',\n",
              "       'brown-spot', 'brown-spot', 'brown-spot', 'brown-spot',\n",
              "       'brown-spot', 'brown-spot', 'brown-spot', 'brown-spot',\n",
              "       'brown-spot', 'brown-spot', 'brown-spot', 'brown-spot',\n",
              "       'brown-spot', 'brown-spot', 'brown-spot', 'brown-spot',\n",
              "       'brown-spot', 'brown-spot', 'bacterial-blight', 'bacterial-blight',\n",
              "       'bacterial-blight', 'bacterial-blight', 'bacterial-blight',\n",
              "       'bacterial-blight', 'bacterial-blight', 'bacterial-blight',\n",
              "       'bacterial-blight', 'bacterial-blight', 'bacterial-pustule',\n",
              "       'bacterial-pustule', 'bacterial-pustule', 'bacterial-pustule',\n",
              "       'bacterial-pustule', 'bacterial-pustule', 'bacterial-pustule',\n",
              "       'bacterial-pustule', 'bacterial-pustule', 'bacterial-pustule',\n",
              "       'purple-seed-stain', 'purple-seed-stain', 'purple-seed-stain',\n",
              "       'purple-seed-stain', 'purple-seed-stain', 'purple-seed-stain',\n",
              "       'purple-seed-stain', 'purple-seed-stain', 'purple-seed-stain',\n",
              "       'purple-seed-stain', 'anthracnose', 'anthracnose', 'anthracnose',\n",
              "       'anthracnose', 'anthracnose', 'anthracnose', 'anthracnose',\n",
              "       'anthracnose', 'anthracnose', 'anthracnose', 'anthracnose',\n",
              "       'anthracnose', 'anthracnose', 'anthracnose', 'anthracnose',\n",
              "       'anthracnose', 'anthracnose', 'anthracnose', 'anthracnose',\n",
              "       'anthracnose', 'anthracnose', 'anthracnose', 'anthracnose',\n",
              "       'anthracnose', 'phyllosticta-leaf-spot', 'phyllosticta-leaf-spot',\n",
              "       'phyllosticta-leaf-spot', 'phyllosticta-leaf-spot',\n",
              "       'phyllosticta-leaf-spot', 'phyllosticta-leaf-spot',\n",
              "       'phyllosticta-leaf-spot', 'phyllosticta-leaf-spot',\n",
              "       'phyllosticta-leaf-spot', 'phyllosticta-leaf-spot',\n",
              "       'alternarialeaf-spot', 'alternarialeaf-spot',\n",
              "       'alternarialeaf-spot', 'alternarialeaf-spot',\n",
              "       'alternarialeaf-spot', 'alternarialeaf-spot',\n",
              "       'alternarialeaf-spot', 'alternarialeaf-spot',\n",
              "       'alternarialeaf-spot', 'alternarialeaf-spot',\n",
              "       'alternarialeaf-spot', 'alternarialeaf-spot',\n",
              "       'alternarialeaf-spot', 'alternarialeaf-spot',\n",
              "       'alternarialeaf-spot', 'alternarialeaf-spot',\n",
              "       'alternarialeaf-spot', 'alternarialeaf-spot',\n",
              "       'alternarialeaf-spot', 'alternarialeaf-spot',\n",
              "       'alternarialeaf-spot', 'alternarialeaf-spot',\n",
              "       'alternarialeaf-spot', 'alternarialeaf-spot',\n",
              "       'alternarialeaf-spot', 'alternarialeaf-spot',\n",
              "       'alternarialeaf-spot', 'alternarialeaf-spot',\n",
              "       'alternarialeaf-spot', 'alternarialeaf-spot',\n",
              "       'alternarialeaf-spot', 'alternarialeaf-spot',\n",
              "       'alternarialeaf-spot', 'alternarialeaf-spot',\n",
              "       'alternarialeaf-spot', 'alternarialeaf-spot',\n",
              "       'alternarialeaf-spot', 'alternarialeaf-spot',\n",
              "       'alternarialeaf-spot', 'alternarialeaf-spot',\n",
              "       'alternarialeaf-spot', 'alternarialeaf-spot',\n",
              "       'alternarialeaf-spot', 'alternarialeaf-spot',\n",
              "       'alternarialeaf-spot', 'alternarialeaf-spot',\n",
              "       'alternarialeaf-spot', 'alternarialeaf-spot',\n",
              "       'alternarialeaf-spot', 'alternarialeaf-spot',\n",
              "       'alternarialeaf-spot', 'frog-eye-leaf-spot', 'frog-eye-leaf-spot',\n",
              "       'frog-eye-leaf-spot', 'frog-eye-leaf-spot', 'frog-eye-leaf-spot',\n",
              "       'frog-eye-leaf-spot', 'frog-eye-leaf-spot', 'frog-eye-leaf-spot',\n",
              "       'frog-eye-leaf-spot', 'frog-eye-leaf-spot', 'frog-eye-leaf-spot',\n",
              "       'frog-eye-leaf-spot', 'frog-eye-leaf-spot', 'frog-eye-leaf-spot',\n",
              "       'frog-eye-leaf-spot', 'frog-eye-leaf-spot', 'frog-eye-leaf-spot',\n",
              "       'frog-eye-leaf-spot', 'frog-eye-leaf-spot', 'frog-eye-leaf-spot',\n",
              "       'frog-eye-leaf-spot', 'frog-eye-leaf-spot', 'frog-eye-leaf-spot',\n",
              "       'frog-eye-leaf-spot', 'frog-eye-leaf-spot', 'frog-eye-leaf-spot',\n",
              "       'frog-eye-leaf-spot', 'frog-eye-leaf-spot', 'frog-eye-leaf-spot',\n",
              "       'frog-eye-leaf-spot', 'frog-eye-leaf-spot', 'frog-eye-leaf-spot',\n",
              "       'frog-eye-leaf-spot', 'frog-eye-leaf-spot', 'frog-eye-leaf-spot',\n",
              "       'frog-eye-leaf-spot', 'frog-eye-leaf-spot', 'frog-eye-leaf-spot',\n",
              "       'frog-eye-leaf-spot', 'frog-eye-leaf-spot', 'frog-eye-leaf-spot',\n",
              "       'frog-eye-leaf-spot', 'frog-eye-leaf-spot', 'frog-eye-leaf-spot',\n",
              "       'frog-eye-leaf-spot', 'frog-eye-leaf-spot', 'frog-eye-leaf-spot',\n",
              "       'frog-eye-leaf-spot', 'frog-eye-leaf-spot', 'frog-eye-leaf-spot',\n",
              "       'frog-eye-leaf-spot', 'diaporthe-pod-&-stem-blight',\n",
              "       'diaporthe-pod-&-stem-blight', 'diaporthe-pod-&-stem-blight',\n",
              "       'diaporthe-pod-&-stem-blight', 'diaporthe-pod-&-stem-blight',\n",
              "       'diaporthe-pod-&-stem-blight', 'diaporthe-pod-&-stem-blight',\n",
              "       'diaporthe-pod-&-stem-blight', 'diaporthe-pod-&-stem-blight',\n",
              "       'cyst-nematode', 'cyst-nematode', 'cyst-nematode', 'cyst-nematode',\n",
              "       'cyst-nematode', 'cyst-nematode', 'cyst-nematode', 'cyst-nematode',\n",
              "       '2-4-d-injury', '2-4-d-injury', '2-4-d-injury', '2-4-d-injury',\n",
              "       '2-4-d-injury', '2-4-d-injury', '2-4-d-injury', '2-4-d-injury',\n",
              "       '2-4-d-injury', '2-4-d-injury', '2-4-d-injury', '2-4-d-injury',\n",
              "       '2-4-d-injury', '2-4-d-injury', '2-4-d-injury', 'herbicide-injury',\n",
              "       'herbicide-injury', 'herbicide-injury', 'herbicide-injury'],\n",
              "      dtype=object)"
            ]
          },
          "execution_count": 29,
          "metadata": {},
          "output_type": "execute_result"
        }
      ],
      "source": [
        "data = dataset.iloc[:, :35].values\n",
        "target = dataset.iloc[:, 35].values\n",
        "\n",
        "target"
      ]
    },
    {
      "cell_type": "markdown",
      "source": [
        "## ***Transforming the data into Numeric values***"
      ],
      "metadata": {
        "id": "AZdupoO7T3Je"
      }
    },
    {
      "cell_type": "code",
      "execution_count": null,
      "metadata": {
        "id": "MMyAjdBnRhOK"
      },
      "outputs": [],
      "source": [
        "labelencoder = LabelEncoder()\n",
        "\n",
        "for x in range(35):\n",
        "    data[ :, x] = labelencoder.fit_transform(data[ :, x])"
      ]
    },
    {
      "cell_type": "code",
      "execution_count": null,
      "metadata": {
        "id": "whbFIgvmRhOK",
        "outputId": "c28f103f-e783-4d05-a256-e5d5c856260a"
      },
      "outputs": [
        {
          "data": {
            "text/plain": [
              "array([[6, 2, 1, ..., 2, 1, 2],\n",
              "       [2, 2, 1, ..., 2, 1, 2],\n",
              "       [3, 2, 1, ..., 2, 1, 2],\n",
              "       ...,\n",
              "       [4, 1, 0, ..., 0, 0, 3],\n",
              "       [1, 1, 0, ..., 0, 0, 3],\n",
              "       [4, 1, 0, ..., 0, 0, 3]], dtype=object)"
            ]
          },
          "execution_count": 31,
          "metadata": {},
          "output_type": "execute_result"
        }
      ],
      "source": [
        "data"
      ]
    },
    {
      "cell_type": "markdown",
      "source": [
        "## ***Separating train and test data***"
      ],
      "metadata": {
        "id": "B5ZMU0T8T6nZ"
      }
    },
    {
      "cell_type": "code",
      "execution_count": null,
      "metadata": {
        "id": "bVBVhk0kRhOL",
        "outputId": "6f574f55-c495-4f1e-ac4c-0547bef4b9cd"
      },
      "outputs": [
        {
          "name": "stdout",
          "output_type": "stream",
          "text": [
            "478 205 478 205\n"
          ]
        }
      ],
      "source": [
        "X_train, X_test, y_train, y_test = train_test_split(data,\n",
        "                                                    target,\n",
        "                                                    test_size = 0.3,\n",
        "                                                    random_state = 0)\n",
        "\n",
        "print(len(X_train), len(X_test), len(y_train), len(y_test))"
      ]
    },
    {
      "cell_type": "markdown",
      "source": [
        "## ***Creating and training the Model***"
      ],
      "metadata": {
        "id": "rT8FrkN_T8Za"
      }
    },
    {
      "cell_type": "code",
      "execution_count": null,
      "metadata": {
        "id": "iqqjhMTwRhOM",
        "outputId": "344c2427-ccd2-48fc-f2b9-6703e273f355"
      },
      "outputs": [
        {
          "data": {
            "text/plain": [
              "GaussianNB()"
            ]
          },
          "execution_count": 33,
          "metadata": {},
          "output_type": "execute_result"
        }
      ],
      "source": [
        "naive_bayes = GaussianNB()\n",
        "naive_bayes.fit(X_train, y_train)"
      ]
    },
    {
      "cell_type": "markdown",
      "source": [
        "## ***Predictions***"
      ],
      "metadata": {
        "id": "PXIz3M22UAcU"
      }
    },
    {
      "cell_type": "code",
      "execution_count": null,
      "metadata": {
        "id": "8UZBVYrbRhON",
        "outputId": "4e26674c-2c3e-4c04-a482-5696355a89a8"
      },
      "outputs": [
        {
          "data": {
            "text/plain": [
              "array(['alternarialeaf-spot', 'phytophthora-rot', 'herbicide-injury',\n",
              "       'purple-seed-stain', 'cyst-nematode', 'bacterial-blight',\n",
              "       'brown-stem-rot', 'bacterial-pustule', 'brown-spot',\n",
              "       'alternarialeaf-spot', 'charcoal-rot', 'bacterial-blight',\n",
              "       'anthracnose', 'anthracnose', 'alternarialeaf-spot', 'brown-spot',\n",
              "       'alternarialeaf-spot', 'alternarialeaf-spot',\n",
              "       'rhizoctonia-root-rot', 'phytophthora-rot', 'anthracnose',\n",
              "       'brown-stem-rot', 'phyllosticta-leaf-spot',\n",
              "       'phyllosticta-leaf-spot', 'diaporthe-stem-canker', 'brown-spot',\n",
              "       'anthracnose', 'diaporthe-stem-canker', 'bacterial-pustule',\n",
              "       'phytophthora-rot', 'frog-eye-leaf-spot', 'alternarialeaf-spot',\n",
              "       'phyllosticta-leaf-spot', 'frog-eye-leaf-spot',\n",
              "       'frog-eye-leaf-spot', 'bacterial-pustule', 'brown-stem-rot',\n",
              "       'charcoal-rot', 'brown-spot', 'alternarialeaf-spot',\n",
              "       'brown-stem-rot', 'alternarialeaf-spot', 'phytophthora-rot',\n",
              "       'anthracnose', 'bacterial-blight', '2-4-d-injury',\n",
              "       'alternarialeaf-spot', 'phyllosticta-leaf-spot',\n",
              "       'phyllosticta-leaf-spot', 'alternarialeaf-spot',\n",
              "       'phyllosticta-leaf-spot', 'brown-stem-rot', 'anthracnose',\n",
              "       'frog-eye-leaf-spot', 'brown-stem-rot', 'frog-eye-leaf-spot',\n",
              "       'alternarialeaf-spot', 'diaporthe-stem-canker', 'brown-stem-rot',\n",
              "       'downy-mildew', 'bacterial-pustule', 'downy-mildew',\n",
              "       'alternarialeaf-spot', 'alternarialeaf-spot', 'bacterial-blight',\n",
              "       'anthracnose', 'rhizoctonia-root-rot', 'phytophthora-rot',\n",
              "       'anthracnose', 'anthracnose', 'cyst-nematode',\n",
              "       'alternarialeaf-spot', 'alternarialeaf-spot', 'brown-spot',\n",
              "       'rhizoctonia-root-rot', 'phytophthora-rot', 'phytophthora-rot',\n",
              "       'frog-eye-leaf-spot', 'frog-eye-leaf-spot',\n",
              "       'diaporthe-stem-canker', 'brown-spot', 'frog-eye-leaf-spot',\n",
              "       'alternarialeaf-spot', 'diaporthe-stem-canker',\n",
              "       'purple-seed-stain', 'phytophthora-rot', 'anthracnose',\n",
              "       'alternarialeaf-spot', 'frog-eye-leaf-spot', 'phytophthora-rot',\n",
              "       'charcoal-rot', 'brown-spot', 'diaporthe-stem-canker',\n",
              "       'anthracnose', 'anthracnose', 'anthracnose', 'brown-spot',\n",
              "       'phytophthora-rot', 'downy-mildew', 'alternarialeaf-spot',\n",
              "       'anthracnose', 'alternarialeaf-spot', 'brown-spot',\n",
              "       'alternarialeaf-spot', 'charcoal-rot', 'downy-mildew',\n",
              "       'anthracnose', 'phyllosticta-leaf-spot', 'alternarialeaf-spot',\n",
              "       'cyst-nematode', 'anthracnose', 'phyllosticta-leaf-spot',\n",
              "       'alternarialeaf-spot', 'alternarialeaf-spot', 'charcoal-rot',\n",
              "       'phyllosticta-leaf-spot', 'frog-eye-leaf-spot',\n",
              "       'rhizoctonia-root-rot', 'brown-stem-rot', 'phytophthora-rot',\n",
              "       'phytophthora-rot', 'charcoal-rot', 'frog-eye-leaf-spot',\n",
              "       'anthracnose', '2-4-d-injury', 'phytophthora-rot', 'brown-spot',\n",
              "       'alternarialeaf-spot', 'anthracnose',\n",
              "       'diaporthe-pod-&-stem-blight', 'phyllosticta-leaf-spot',\n",
              "       'anthracnose', 'rhizoctonia-root-rot', 'alternarialeaf-spot',\n",
              "       'purple-seed-stain', 'bacterial-pustule', 'brown-stem-rot',\n",
              "       'diaporthe-stem-canker', 'phyllosticta-leaf-spot',\n",
              "       'frog-eye-leaf-spot', 'brown-stem-rot', 'downy-mildew',\n",
              "       'alternarialeaf-spot', 'purple-seed-stain', 'alternarialeaf-spot',\n",
              "       'alternarialeaf-spot', 'alternarialeaf-spot', 'powdery-mildew',\n",
              "       'frog-eye-leaf-spot', 'phyllosticta-leaf-spot', '2-4-d-injury',\n",
              "       'phytophthora-rot', 'frog-eye-leaf-spot', 'phytophthora-rot',\n",
              "       'bacterial-blight', 'bacterial-blight', 'brown-stem-rot',\n",
              "       'bacterial-blight', 'purple-seed-stain', 'herbicide-injury',\n",
              "       'diaporthe-pod-&-stem-blight', 'phyllosticta-leaf-spot',\n",
              "       'alternarialeaf-spot', 'charcoal-rot', 'bacterial-pustule',\n",
              "       'cyst-nematode', 'frog-eye-leaf-spot', 'bacterial-blight',\n",
              "       'charcoal-rot', 'brown-stem-rot', 'powdery-mildew',\n",
              "       'phyllosticta-leaf-spot', 'phytophthora-rot',\n",
              "       'alternarialeaf-spot', 'cyst-nematode', 'phytophthora-rot',\n",
              "       'frog-eye-leaf-spot', 'alternarialeaf-spot', 'frog-eye-leaf-spot',\n",
              "       'anthracnose', 'alternarialeaf-spot', 'charcoal-rot',\n",
              "       'alternarialeaf-spot', 'alternarialeaf-spot',\n",
              "       'diaporthe-stem-canker', 'frog-eye-leaf-spot', 'brown-stem-rot',\n",
              "       'frog-eye-leaf-spot', 'diaporthe-pod-&-stem-blight',\n",
              "       'phytophthora-rot', 'diaporthe-pod-&-stem-blight',\n",
              "       'frog-eye-leaf-spot', 'anthracnose', 'alternarialeaf-spot',\n",
              "       'frog-eye-leaf-spot', 'phytophthora-rot', 'powdery-mildew',\n",
              "       'alternarialeaf-spot', 'herbicide-injury', 'alternarialeaf-spot',\n",
              "       'anthracnose', 'diaporthe-pod-&-stem-blight', 'purple-seed-stain',\n",
              "       'bacterial-pustule', 'diaporthe-pod-&-stem-blight'], dtype='<U27')"
            ]
          },
          "execution_count": 34,
          "metadata": {},
          "output_type": "execute_result"
        }
      ],
      "source": [
        "predictions = naive_bayes.predict(X_test)\n",
        "predictions"
      ]
    },
    {
      "cell_type": "markdown",
      "source": [
        "## ***Accuracy***"
      ],
      "metadata": {
        "id": "GmO-Zp9FUCKI"
      }
    },
    {
      "cell_type": "code",
      "execution_count": null,
      "metadata": {
        "id": "lDtwPrqMRhON",
        "outputId": "3069110a-2c3c-49e9-8745-67edaba1831a"
      },
      "outputs": [
        {
          "name": "stdout",
          "output_type": "stream",
          "text": [
            "Hit Rate: 0.86\n",
            "Miss Rate: 0.14\n"
          ]
        }
      ],
      "source": [
        "hit_rate = accuracy_score(y_test, predictions)\n",
        "miss_rate = 1 - hit_rate\n",
        "\n",
        "print(f'Hit Rate: {hit_rate:.2f}\\nMiss Rate: {miss_rate:.2f}')\n",
        "\n",
        "# OKAY"
      ]
    }
  ],
  "metadata": {
    "interpreter": {
      "hash": "343f115f40a8053497179efaaabbcede37074ddc2d78a1917bbcb3055274ce2f"
    },
    "kernelspec": {
      "display_name": "Python 3.8.8 ('base')",
      "language": "python",
      "name": "python3"
    },
    "language_info": {
      "codemirror_mode": {
        "name": "ipython",
        "version": 3
      },
      "file_extension": ".py",
      "mimetype": "text/x-python",
      "name": "python",
      "nbconvert_exporter": "python",
      "pygments_lexer": "ipython3",
      "version": "3.8.8"
    },
    "orig_nbformat": 4,
    "colab": {
      "name": "soybean_NaiveBayes.ipynb",
      "provenance": [],
      "include_colab_link": true
    }
  },
  "nbformat": 4,
  "nbformat_minor": 0
}